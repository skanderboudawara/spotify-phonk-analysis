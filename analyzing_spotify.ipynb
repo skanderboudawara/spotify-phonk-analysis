{
 "cells": [
  {
   "cell_type": "code",
   "execution_count": 1,
   "metadata": {},
   "outputs": [
    {
     "name": "stdout",
     "output_type": "stream",
     "text": [
      "Requirement already satisfied: pandas in /Library/Frameworks/Python.framework/Versions/3.11/lib/python3.11/site-packages (1.5.2)\n",
      "Requirement already satisfied: python-dateutil>=2.8.1 in /Library/Frameworks/Python.framework/Versions/3.11/lib/python3.11/site-packages (from pandas) (2.8.2)\n",
      "Requirement already satisfied: pytz>=2020.1 in /Library/Frameworks/Python.framework/Versions/3.11/lib/python3.11/site-packages (from pandas) (2022.7)\n",
      "Requirement already satisfied: numpy>=1.21.0 in /Library/Frameworks/Python.framework/Versions/3.11/lib/python3.11/site-packages (from pandas) (1.24.1)\n",
      "Requirement already satisfied: six>=1.5 in /Library/Frameworks/Python.framework/Versions/3.11/lib/python3.11/site-packages (from python-dateutil>=2.8.1->pandas) (1.16.0)\n",
      "Requirement already satisfied: numpy in /Library/Frameworks/Python.framework/Versions/3.11/lib/python3.11/site-packages (1.24.1)\n",
      "Requirement already satisfied: plotly in /Library/Frameworks/Python.framework/Versions/3.11/lib/python3.11/site-packages (5.11.0)\n",
      "Requirement already satisfied: tenacity>=6.2.0 in /Library/Frameworks/Python.framework/Versions/3.11/lib/python3.11/site-packages (from plotly) (8.1.0)\n",
      "Requirement already satisfied: emoji-country-flag in /Library/Frameworks/Python.framework/Versions/3.11/lib/python3.11/site-packages (1.3.1)\n",
      "Requirement already satisfied: dash in /Library/Frameworks/Python.framework/Versions/3.11/lib/python3.11/site-packages (2.7.1)\n",
      "Requirement already satisfied: Flask>=1.0.4 in /Library/Frameworks/Python.framework/Versions/3.11/lib/python3.11/site-packages (from dash) (2.2.2)\n",
      "Requirement already satisfied: plotly>=5.0.0 in /Library/Frameworks/Python.framework/Versions/3.11/lib/python3.11/site-packages (from dash) (5.11.0)\n",
      "Requirement already satisfied: dash-html-components==2.0.0 in /Library/Frameworks/Python.framework/Versions/3.11/lib/python3.11/site-packages (from dash) (2.0.0)\n",
      "Requirement already satisfied: dash-core-components==2.0.0 in /Library/Frameworks/Python.framework/Versions/3.11/lib/python3.11/site-packages (from dash) (2.0.0)\n",
      "Requirement already satisfied: dash-table==5.0.0 in /Library/Frameworks/Python.framework/Versions/3.11/lib/python3.11/site-packages (from dash) (5.0.0)\n",
      "Requirement already satisfied: Werkzeug>=2.2.2 in /Library/Frameworks/Python.framework/Versions/3.11/lib/python3.11/site-packages (from Flask>=1.0.4->dash) (2.2.2)\n",
      "Requirement already satisfied: Jinja2>=3.0 in /Users/skanderboudawara/Library/Python/3.11/lib/python/site-packages (from Flask>=1.0.4->dash) (3.1.2)\n",
      "Requirement already satisfied: itsdangerous>=2.0 in /Library/Frameworks/Python.framework/Versions/3.11/lib/python3.11/site-packages (from Flask>=1.0.4->dash) (2.1.2)\n",
      "Requirement already satisfied: click>=8.0 in /Library/Frameworks/Python.framework/Versions/3.11/lib/python3.11/site-packages (from Flask>=1.0.4->dash) (8.1.3)\n",
      "Requirement already satisfied: tenacity>=6.2.0 in /Library/Frameworks/Python.framework/Versions/3.11/lib/python3.11/site-packages (from plotly>=5.0.0->dash) (8.1.0)\n",
      "Requirement already satisfied: MarkupSafe>=2.0 in /Users/skanderboudawara/Library/Python/3.11/lib/python/site-packages (from Jinja2>=3.0->Flask>=1.0.4->dash) (2.1.1)\n",
      "Requirement already satisfied: jupyter-dash in /Library/Frameworks/Python.framework/Versions/3.11/lib/python3.11/site-packages (0.4.2)\n",
      "Requirement already satisfied: dash in /Library/Frameworks/Python.framework/Versions/3.11/lib/python3.11/site-packages (from jupyter-dash) (2.7.1)\n",
      "Requirement already satisfied: requests in /Library/Frameworks/Python.framework/Versions/3.11/lib/python3.11/site-packages (from jupyter-dash) (2.28.1)\n",
      "Requirement already satisfied: flask in /Library/Frameworks/Python.framework/Versions/3.11/lib/python3.11/site-packages (from jupyter-dash) (2.2.2)\n",
      "Requirement already satisfied: retrying in /Library/Frameworks/Python.framework/Versions/3.11/lib/python3.11/site-packages (from jupyter-dash) (1.3.4)\n",
      "Requirement already satisfied: ipython in /Users/skanderboudawara/Library/Python/3.11/lib/python/site-packages (from jupyter-dash) (8.7.0)\n",
      "Requirement already satisfied: ipykernel in /Users/skanderboudawara/Library/Python/3.11/lib/python/site-packages (from jupyter-dash) (6.19.4)\n",
      "Requirement already satisfied: ansi2html in /Library/Frameworks/Python.framework/Versions/3.11/lib/python3.11/site-packages (from jupyter-dash) (1.8.0)\n",
      "Requirement already satisfied: nest-asyncio in /Users/skanderboudawara/Library/Python/3.11/lib/python/site-packages (from jupyter-dash) (1.5.6)\n",
      "Requirement already satisfied: plotly>=5.0.0 in /Library/Frameworks/Python.framework/Versions/3.11/lib/python3.11/site-packages (from dash->jupyter-dash) (5.11.0)\n",
      "Requirement already satisfied: dash-html-components==2.0.0 in /Library/Frameworks/Python.framework/Versions/3.11/lib/python3.11/site-packages (from dash->jupyter-dash) (2.0.0)\n",
      "Requirement already satisfied: dash-core-components==2.0.0 in /Library/Frameworks/Python.framework/Versions/3.11/lib/python3.11/site-packages (from dash->jupyter-dash) (2.0.0)\n",
      "Requirement already satisfied: dash-table==5.0.0 in /Library/Frameworks/Python.framework/Versions/3.11/lib/python3.11/site-packages (from dash->jupyter-dash) (5.0.0)\n",
      "Requirement already satisfied: Werkzeug>=2.2.2 in /Library/Frameworks/Python.framework/Versions/3.11/lib/python3.11/site-packages (from flask->jupyter-dash) (2.2.2)\n",
      "Requirement already satisfied: Jinja2>=3.0 in /Users/skanderboudawara/Library/Python/3.11/lib/python/site-packages (from flask->jupyter-dash) (3.1.2)\n",
      "Requirement already satisfied: itsdangerous>=2.0 in /Library/Frameworks/Python.framework/Versions/3.11/lib/python3.11/site-packages (from flask->jupyter-dash) (2.1.2)\n",
      "Requirement already satisfied: click>=8.0 in /Library/Frameworks/Python.framework/Versions/3.11/lib/python3.11/site-packages (from flask->jupyter-dash) (8.1.3)\n",
      "Requirement already satisfied: appnope in /Users/skanderboudawara/Library/Python/3.11/lib/python/site-packages (from ipykernel->jupyter-dash) (0.1.3)\n",
      "Requirement already satisfied: comm>=0.1.1 in /Users/skanderboudawara/Library/Python/3.11/lib/python/site-packages (from ipykernel->jupyter-dash) (0.1.2)\n",
      "Requirement already satisfied: debugpy>=1.0 in /Users/skanderboudawara/Library/Python/3.11/lib/python/site-packages (from ipykernel->jupyter-dash) (1.6.4)\n",
      "Requirement already satisfied: jupyter-client>=6.1.12 in /Users/skanderboudawara/Library/Python/3.11/lib/python/site-packages (from ipykernel->jupyter-dash) (7.4.8)\n",
      "Requirement already satisfied: matplotlib-inline>=0.1 in /Users/skanderboudawara/Library/Python/3.11/lib/python/site-packages (from ipykernel->jupyter-dash) (0.1.6)\n",
      "Requirement already satisfied: packaging in /Library/Frameworks/Python.framework/Versions/3.11/lib/python3.11/site-packages (from ipykernel->jupyter-dash) (22.0)\n",
      "Requirement already satisfied: psutil in /Users/skanderboudawara/Library/Python/3.11/lib/python/site-packages (from ipykernel->jupyter-dash) (5.9.4)\n",
      "Requirement already satisfied: pyzmq>=17 in /Users/skanderboudawara/Library/Python/3.11/lib/python/site-packages (from ipykernel->jupyter-dash) (24.0.1)\n",
      "Requirement already satisfied: tornado>=6.1 in /Users/skanderboudawara/Library/Python/3.11/lib/python/site-packages (from ipykernel->jupyter-dash) (6.2)\n",
      "Requirement already satisfied: traitlets>=5.4.0 in /Users/skanderboudawara/Library/Python/3.11/lib/python/site-packages (from ipykernel->jupyter-dash) (5.8.0)\n",
      "Requirement already satisfied: backcall in /Users/skanderboudawara/Library/Python/3.11/lib/python/site-packages (from ipython->jupyter-dash) (0.2.0)\n",
      "Requirement already satisfied: decorator in /Users/skanderboudawara/Library/Python/3.11/lib/python/site-packages (from ipython->jupyter-dash) (5.1.1)\n",
      "Requirement already satisfied: jedi>=0.16 in /Users/skanderboudawara/Library/Python/3.11/lib/python/site-packages (from ipython->jupyter-dash) (0.18.2)\n",
      "Requirement already satisfied: pickleshare in /Users/skanderboudawara/Library/Python/3.11/lib/python/site-packages (from ipython->jupyter-dash) (0.7.5)\n",
      "Requirement already satisfied: prompt-toolkit<3.1.0,>=3.0.11 in /Users/skanderboudawara/Library/Python/3.11/lib/python/site-packages (from ipython->jupyter-dash) (3.0.36)\n",
      "Requirement already satisfied: pygments>=2.4.0 in /Users/skanderboudawara/Library/Python/3.11/lib/python/site-packages (from ipython->jupyter-dash) (2.13.0)\n",
      "Requirement already satisfied: stack-data in /Users/skanderboudawara/Library/Python/3.11/lib/python/site-packages (from ipython->jupyter-dash) (0.6.2)\n",
      "Requirement already satisfied: pexpect>4.3 in /Users/skanderboudawara/Library/Python/3.11/lib/python/site-packages (from ipython->jupyter-dash) (4.8.0)\n",
      "Requirement already satisfied: charset-normalizer<3,>=2 in /Library/Frameworks/Python.framework/Versions/3.11/lib/python3.11/site-packages (from requests->jupyter-dash) (2.1.1)\n",
      "Requirement already satisfied: idna<4,>=2.5 in /Library/Frameworks/Python.framework/Versions/3.11/lib/python3.11/site-packages (from requests->jupyter-dash) (3.4)\n",
      "Requirement already satisfied: urllib3<1.27,>=1.21.1 in /Library/Frameworks/Python.framework/Versions/3.11/lib/python3.11/site-packages (from requests->jupyter-dash) (1.26.13)\n",
      "Requirement already satisfied: certifi>=2017.4.17 in /Library/Frameworks/Python.framework/Versions/3.11/lib/python3.11/site-packages (from requests->jupyter-dash) (2022.12.7)\n",
      "Requirement already satisfied: six>=1.7.0 in /Library/Frameworks/Python.framework/Versions/3.11/lib/python3.11/site-packages (from retrying->jupyter-dash) (1.16.0)\n",
      "Requirement already satisfied: parso<0.9.0,>=0.8.0 in /Users/skanderboudawara/Library/Python/3.11/lib/python/site-packages (from jedi>=0.16->ipython->jupyter-dash) (0.8.3)\n",
      "Requirement already satisfied: MarkupSafe>=2.0 in /Users/skanderboudawara/Library/Python/3.11/lib/python/site-packages (from Jinja2>=3.0->flask->jupyter-dash) (2.1.1)\n",
      "Requirement already satisfied: entrypoints in /Users/skanderboudawara/Library/Python/3.11/lib/python/site-packages (from jupyter-client>=6.1.12->ipykernel->jupyter-dash) (0.4)\n",
      "Requirement already satisfied: jupyter-core>=4.9.2 in /Users/skanderboudawara/Library/Python/3.11/lib/python/site-packages (from jupyter-client>=6.1.12->ipykernel->jupyter-dash) (5.1.1)\n",
      "Requirement already satisfied: python-dateutil>=2.8.2 in /Library/Frameworks/Python.framework/Versions/3.11/lib/python3.11/site-packages (from jupyter-client>=6.1.12->ipykernel->jupyter-dash) (2.8.2)\n",
      "Requirement already satisfied: ptyprocess>=0.5 in /Users/skanderboudawara/Library/Python/3.11/lib/python/site-packages (from pexpect>4.3->ipython->jupyter-dash) (0.7.0)\n",
      "Requirement already satisfied: tenacity>=6.2.0 in /Library/Frameworks/Python.framework/Versions/3.11/lib/python3.11/site-packages (from plotly>=5.0.0->dash->jupyter-dash) (8.1.0)\n",
      "Requirement already satisfied: wcwidth in /Users/skanderboudawara/Library/Python/3.11/lib/python/site-packages (from prompt-toolkit<3.1.0,>=3.0.11->ipython->jupyter-dash) (0.2.5)\n",
      "Requirement already satisfied: executing>=1.2.0 in /Users/skanderboudawara/Library/Python/3.11/lib/python/site-packages (from stack-data->ipython->jupyter-dash) (1.2.0)\n",
      "Requirement already satisfied: asttokens>=2.1.0 in /Users/skanderboudawara/Library/Python/3.11/lib/python/site-packages (from stack-data->ipython->jupyter-dash) (2.2.1)\n",
      "Requirement already satisfied: pure-eval in /Users/skanderboudawara/Library/Python/3.11/lib/python/site-packages (from stack-data->ipython->jupyter-dash) (0.2.2)\n",
      "Requirement already satisfied: platformdirs>=2.5 in /Library/Frameworks/Python.framework/Versions/3.11/lib/python3.11/site-packages (from jupyter-core>=4.9.2->jupyter-client>=6.1.12->ipykernel->jupyter-dash) (2.6.2)\n"
     ]
    }
   ],
   "source": [
    "! pip3 install pandas\n",
    "! pip3 install numpy\n",
    "! pip3 install plotly\n",
    "! pip3 install emoji-country-flag\n",
    "! pip3 install dash\n",
    "! pip3 install jupyter-dash\n"
   ]
  },
  {
   "cell_type": "code",
   "execution_count": 2,
   "metadata": {},
   "outputs": [],
   "source": [
    "# Turn off reloader if inside Jupyter"
   ]
  },
  {
   "cell_type": "code",
   "execution_count": 2,
   "metadata": {},
   "outputs": [],
   "source": [
    "import pandas as pd\n",
    "import numpy as np\n",
    "import plotly.graph_objects as go\n",
    "from plotly.subplots import make_subplots\n",
    "import flag\n",
    "from ast import literal_eval"
   ]
  },
  {
   "cell_type": "code",
   "execution_count": 6,
   "metadata": {},
   "outputs": [
    {
     "data": {
      "text/html": [
       "<div>\n",
       "<style scoped>\n",
       "    .dataframe tbody tr th:only-of-type {\n",
       "        vertical-align: middle;\n",
       "    }\n",
       "\n",
       "    .dataframe tbody tr th {\n",
       "        vertical-align: top;\n",
       "    }\n",
       "\n",
       "    .dataframe thead th {\n",
       "        text-align: right;\n",
       "    }\n",
       "</style>\n",
       "<table border=\"1\" class=\"dataframe\">\n",
       "  <thead>\n",
       "    <tr style=\"text-align: right;\">\n",
       "      <th></th>\n",
       "      <th>Unnamed: 0</th>\n",
       "      <th>track_id</th>\n",
       "      <th>name</th>\n",
       "      <th>country</th>\n",
       "      <th>date</th>\n",
       "      <th>position</th>\n",
       "      <th>streams</th>\n",
       "      <th>artists</th>\n",
       "      <th>artist_genres</th>\n",
       "      <th>duration</th>\n",
       "      <th>explicit</th>\n",
       "      <th>counter</th>\n",
       "    </tr>\n",
       "  </thead>\n",
       "  <tbody>\n",
       "    <tr>\n",
       "      <th>0</th>\n",
       "      <td>295780</td>\n",
       "      <td>4wHkfOTO5XpTrVn1bHxR18</td>\n",
       "      <td>Dream Space</td>\n",
       "      <td>ua</td>\n",
       "      <td>2021-10-07</td>\n",
       "      <td>190</td>\n",
       "      <td>24172</td>\n",
       "      <td>['DVRST']</td>\n",
       "      <td>['drift phonk']</td>\n",
       "      <td>171466</td>\n",
       "      <td>True</td>\n",
       "      <td>1</td>\n",
       "    </tr>\n",
       "    <tr>\n",
       "      <th>1</th>\n",
       "      <td>325679</td>\n",
       "      <td>5takBO1frKuNNEFXPy35wX</td>\n",
       "      <td>Tony (feat. DJ Metys &amp; Brenk Sinatra)</td>\n",
       "      <td>sk</td>\n",
       "      <td>2017-11-16</td>\n",
       "      <td>88</td>\n",
       "      <td>5633</td>\n",
       "      <td>['Pil C', 'DJ Metys', 'Brenk Sinatra']</td>\n",
       "      <td>['jazz boom bap', 'czsk hip hop', 'phonk', 'ch...</td>\n",
       "      <td>220101</td>\n",
       "      <td>True</td>\n",
       "      <td>1</td>\n",
       "    </tr>\n",
       "    <tr>\n",
       "      <th>2</th>\n",
       "      <td>325680</td>\n",
       "      <td>5takBO1frKuNNEFXPy35wX</td>\n",
       "      <td>Tony (feat. DJ Metys &amp; Brenk Sinatra)</td>\n",
       "      <td>sk</td>\n",
       "      <td>2017-11-23</td>\n",
       "      <td>38</td>\n",
       "      <td>11162</td>\n",
       "      <td>['Pil C', 'DJ Metys', 'Brenk Sinatra']</td>\n",
       "      <td>['jazz boom bap', 'czsk hip hop', 'phonk', 'ch...</td>\n",
       "      <td>220101</td>\n",
       "      <td>True</td>\n",
       "      <td>1</td>\n",
       "    </tr>\n",
       "    <tr>\n",
       "      <th>3</th>\n",
       "      <td>325681</td>\n",
       "      <td>5takBO1frKuNNEFXPy35wX</td>\n",
       "      <td>Tony (feat. DJ Metys &amp; Brenk Sinatra)</td>\n",
       "      <td>sk</td>\n",
       "      <td>2017-11-30</td>\n",
       "      <td>93</td>\n",
       "      <td>5929</td>\n",
       "      <td>['Pil C', 'DJ Metys', 'Brenk Sinatra']</td>\n",
       "      <td>['jazz boom bap', 'czsk hip hop', 'phonk', 'ch...</td>\n",
       "      <td>220101</td>\n",
       "      <td>True</td>\n",
       "      <td>1</td>\n",
       "    </tr>\n",
       "    <tr>\n",
       "      <th>4</th>\n",
       "      <td>325682</td>\n",
       "      <td>5takBO1frKuNNEFXPy35wX</td>\n",
       "      <td>Tony (feat. DJ Metys &amp; Brenk Sinatra)</td>\n",
       "      <td>sk</td>\n",
       "      <td>2017-12-07</td>\n",
       "      <td>169</td>\n",
       "      <td>4089</td>\n",
       "      <td>['Pil C', 'DJ Metys', 'Brenk Sinatra']</td>\n",
       "      <td>['jazz boom bap', 'czsk hip hop', 'phonk', 'ch...</td>\n",
       "      <td>220101</td>\n",
       "      <td>True</td>\n",
       "      <td>1</td>\n",
       "    </tr>\n",
       "  </tbody>\n",
       "</table>\n",
       "</div>"
      ],
      "text/plain": [
       "   Unnamed: 0                track_id                                   name  \\\n",
       "0      295780  4wHkfOTO5XpTrVn1bHxR18                            Dream Space   \n",
       "1      325679  5takBO1frKuNNEFXPy35wX  Tony (feat. DJ Metys & Brenk Sinatra)   \n",
       "2      325680  5takBO1frKuNNEFXPy35wX  Tony (feat. DJ Metys & Brenk Sinatra)   \n",
       "3      325681  5takBO1frKuNNEFXPy35wX  Tony (feat. DJ Metys & Brenk Sinatra)   \n",
       "4      325682  5takBO1frKuNNEFXPy35wX  Tony (feat. DJ Metys & Brenk Sinatra)   \n",
       "\n",
       "  country        date  position  streams  \\\n",
       "0      ua  2021-10-07       190    24172   \n",
       "1      sk  2017-11-16        88     5633   \n",
       "2      sk  2017-11-23        38    11162   \n",
       "3      sk  2017-11-30        93     5929   \n",
       "4      sk  2017-12-07       169     4089   \n",
       "\n",
       "                                  artists  \\\n",
       "0                               ['DVRST']   \n",
       "1  ['Pil C', 'DJ Metys', 'Brenk Sinatra']   \n",
       "2  ['Pil C', 'DJ Metys', 'Brenk Sinatra']   \n",
       "3  ['Pil C', 'DJ Metys', 'Brenk Sinatra']   \n",
       "4  ['Pil C', 'DJ Metys', 'Brenk Sinatra']   \n",
       "\n",
       "                                       artist_genres  duration  explicit  \\\n",
       "0                                    ['drift phonk']    171466      True   \n",
       "1  ['jazz boom bap', 'czsk hip hop', 'phonk', 'ch...    220101      True   \n",
       "2  ['jazz boom bap', 'czsk hip hop', 'phonk', 'ch...    220101      True   \n",
       "3  ['jazz boom bap', 'czsk hip hop', 'phonk', 'ch...    220101      True   \n",
       "4  ['jazz boom bap', 'czsk hip hop', 'phonk', 'ch...    220101      True   \n",
       "\n",
       "   counter  \n",
       "0        1  \n",
       "1        1  \n",
       "2        1  \n",
       "3        1  \n",
       "4        1  "
      ]
     },
     "execution_count": 6,
     "metadata": {},
     "output_type": "execute_result"
    }
   ],
   "source": [
    "df = pd.read_csv('spotify_phonk.csv')\n",
    "df.head()"
   ]
  },
  {
   "cell_type": "code",
   "execution_count": 7,
   "metadata": {},
   "outputs": [],
   "source": [
    "df_date = df.groupby('date').agg(\n",
    "    {'counter':sum,\n",
    "     'streams':sum}\n",
    ").reset_index()"
   ]
  },
  {
   "cell_type": "code",
   "execution_count": 7,
   "metadata": {},
   "outputs": [
    {
     "data": {
      "text/html": [
       "<div>\n",
       "<style scoped>\n",
       "    .dataframe tbody tr th:only-of-type {\n",
       "        vertical-align: middle;\n",
       "    }\n",
       "\n",
       "    .dataframe tbody tr th {\n",
       "        vertical-align: top;\n",
       "    }\n",
       "\n",
       "    .dataframe thead th {\n",
       "        text-align: right;\n",
       "    }\n",
       "</style>\n",
       "<table border=\"1\" class=\"dataframe\">\n",
       "  <thead>\n",
       "    <tr style=\"text-align: right;\">\n",
       "      <th></th>\n",
       "      <th>artists</th>\n",
       "      <th>counter</th>\n",
       "      <th>streams</th>\n",
       "    </tr>\n",
       "  </thead>\n",
       "  <tbody>\n",
       "    <tr>\n",
       "      <th>27</th>\n",
       "      <td>Kordhell</td>\n",
       "      <td>605</td>\n",
       "      <td>136876606</td>\n",
       "    </tr>\n",
       "    <tr>\n",
       "      <th>62</th>\n",
       "      <td>Yung Hurn</td>\n",
       "      <td>349</td>\n",
       "      <td>69153671</td>\n",
       "    </tr>\n",
       "    <tr>\n",
       "      <th>58</th>\n",
       "      <td>Ufo361</td>\n",
       "      <td>127</td>\n",
       "      <td>30743498</td>\n",
       "    </tr>\n",
       "    <tr>\n",
       "      <th>10</th>\n",
       "      <td>DVRST</td>\n",
       "      <td>551</td>\n",
       "      <td>27937062</td>\n",
       "    </tr>\n",
       "    <tr>\n",
       "      <th>35</th>\n",
       "      <td>Nimo</td>\n",
       "      <td>106</td>\n",
       "      <td>24634807</td>\n",
       "    </tr>\n",
       "    <tr>\n",
       "      <th>11</th>\n",
       "      <td>Dxrk ダーク</td>\n",
       "      <td>371</td>\n",
       "      <td>23453973</td>\n",
       "    </tr>\n",
       "    <tr>\n",
       "      <th>65</th>\n",
       "      <td>niteboi</td>\n",
       "      <td>210</td>\n",
       "      <td>23196801</td>\n",
       "    </tr>\n",
       "    <tr>\n",
       "      <th>26</th>\n",
       "      <td>Kingpin Skinny Pimp</td>\n",
       "      <td>232</td>\n",
       "      <td>16054813</td>\n",
       "    </tr>\n",
       "    <tr>\n",
       "      <th>45</th>\n",
       "      <td>PlayaPhonk</td>\n",
       "      <td>342</td>\n",
       "      <td>16010376</td>\n",
       "    </tr>\n",
       "    <tr>\n",
       "      <th>50</th>\n",
       "      <td>SW43 L33 D1DO</td>\n",
       "      <td>25</td>\n",
       "      <td>13279699</td>\n",
       "    </tr>\n",
       "  </tbody>\n",
       "</table>\n",
       "</div>"
      ],
      "text/plain": [
       "                artists  counter    streams\n",
       "27             Kordhell      605  136876606\n",
       "62            Yung Hurn      349   69153671\n",
       "58               Ufo361      127   30743498\n",
       "10                DVRST      551   27937062\n",
       "35                 Nimo      106   24634807\n",
       "11             Dxrk ダーク      371   23453973\n",
       "65              niteboi      210   23196801\n",
       "26  Kingpin Skinny Pimp      232   16054813\n",
       "45           PlayaPhonk      342   16010376\n",
       "50        SW43 L33 D1DO       25   13279699"
      ]
     },
     "execution_count": 7,
     "metadata": {},
     "output_type": "execute_result"
    }
   ],
   "source": [
    "df_artist = df\n",
    "df_artist['artists'] = df_artist['artists'].apply(literal_eval)\n",
    "df_artist = df.explode('artists').groupby('artists').agg(\n",
    "    {\n",
    "        'counter' : sum,\n",
    "        'streams' : sum\n",
    "    }\n",
    ").reset_index()\n",
    "df_artist['artists'] = df_artist['artists'].astype(str)\n",
    "df_artist = df_artist.nlargest(10, 'streams')\n",
    "df_artist"
   ]
  },
  {
   "cell_type": "code",
   "execution_count": 8,
   "metadata": {},
   "outputs": [],
   "source": [
    "df_country = df.groupby('country').agg(\n",
    "    {\n",
    "        'counter' : sum,\n",
    "        'streams' : sum\n",
    "    }\n",
    ").reset_index()\n",
    "df_country = df_country.nlargest(10, 'streams')\n",
    "df_country['country'] = df_country.country.apply(\n",
    "    lambda x: f'{flag.flag(x)} {x.upper()}'\n",
    ")"
   ]
  },
  {
   "cell_type": "code",
   "execution_count": 9,
   "metadata": {},
   "outputs": [],
   "source": [
    "df_explicit = df.groupby('explicit').agg(\n",
    "    {\n",
    "        'counter' : sum\n",
    "    }\n",
    ")"
   ]
  },
  {
   "cell_type": "code",
   "execution_count": 10,
   "metadata": {},
   "outputs": [
    {
     "data": {
      "application/vnd.plotly.v1+json": {
       "config": {
        "plotlyServerURL": "https://plot.ly"
       },
       "data": [
        {
         "fill": "tozeroy",
         "line": {
          "color": "black"
         },
         "name": "Number of tracks",
         "type": "scatter",
         "x": [
          "2017-01-05",
          "2017-01-12",
          "2017-01-19",
          "2017-01-26",
          "2017-02-02",
          "2017-02-09",
          "2017-02-16",
          "2017-03-16",
          "2017-03-23",
          "2017-05-04",
          "2017-05-11",
          "2017-06-22",
          "2017-06-29",
          "2017-07-06",
          "2017-07-13",
          "2017-07-20",
          "2017-07-27",
          "2017-08-03",
          "2017-08-10",
          "2017-08-17",
          "2017-08-24",
          "2017-08-31",
          "2017-09-07",
          "2017-09-14",
          "2017-09-21",
          "2017-09-28",
          "2017-10-05",
          "2017-10-12",
          "2017-10-19",
          "2017-10-26",
          "2017-11-02",
          "2017-11-09",
          "2017-11-16",
          "2017-11-23",
          "2017-11-30",
          "2017-12-07",
          "2017-12-14",
          "2017-12-21",
          "2017-12-28",
          "2018-01-04",
          "2018-01-11",
          "2018-01-18",
          "2018-01-25",
          "2018-02-01",
          "2018-02-08",
          "2018-02-15",
          "2018-02-22",
          "2018-03-01",
          "2018-03-08",
          "2018-03-15",
          "2018-03-22",
          "2018-03-29",
          "2018-04-05",
          "2018-04-12",
          "2018-04-19",
          "2018-04-26",
          "2018-05-03",
          "2018-05-10",
          "2018-05-17",
          "2018-05-24",
          "2018-05-31",
          "2018-06-07",
          "2018-06-14",
          "2018-06-21",
          "2018-08-09",
          "2018-08-23",
          "2018-08-30",
          "2018-09-06",
          "2018-09-13",
          "2018-09-20",
          "2018-09-27",
          "2018-11-29",
          "2019-03-28",
          "2019-06-27",
          "2019-07-04",
          "2019-07-11",
          "2019-07-18",
          "2019-07-25",
          "2019-08-15",
          "2019-08-22",
          "2019-08-29",
          "2019-09-05",
          "2019-09-12",
          "2019-10-31",
          "2019-11-07",
          "2019-11-14",
          "2019-11-21",
          "2019-11-28",
          "2019-12-05",
          "2019-12-26",
          "2020-01-02",
          "2020-01-09",
          "2020-01-16",
          "2020-01-23",
          "2020-01-30",
          "2020-02-06",
          "2020-07-16",
          "2020-07-23",
          "2020-07-30",
          "2020-08-20",
          "2020-08-27",
          "2020-09-03",
          "2020-09-10",
          "2020-09-17",
          "2020-09-24",
          "2020-10-01",
          "2020-10-08",
          "2020-10-15",
          "2020-10-22",
          "2020-10-29",
          "2020-11-05",
          "2020-11-12",
          "2020-11-19",
          "2020-11-26",
          "2020-12-03",
          "2020-12-10",
          "2020-12-17",
          "2020-12-24",
          "2020-12-31",
          "2021-01-07",
          "2021-01-14",
          "2021-01-21",
          "2021-01-28",
          "2021-02-04",
          "2021-02-11",
          "2021-02-18",
          "2021-02-25",
          "2021-03-04",
          "2021-03-11",
          "2021-03-18",
          "2021-03-25",
          "2021-04-01",
          "2021-04-08",
          "2021-04-15",
          "2021-04-22",
          "2021-04-29",
          "2021-05-06",
          "2021-05-13",
          "2021-05-20",
          "2021-05-27",
          "2021-06-03",
          "2021-06-10",
          "2021-06-17",
          "2021-06-24",
          "2021-07-01",
          "2021-07-08",
          "2021-07-15",
          "2021-07-22",
          "2021-07-29",
          "2021-08-05",
          "2021-08-12",
          "2021-08-19",
          "2021-08-26",
          "2021-09-02",
          "2021-09-09",
          "2021-09-16",
          "2021-09-23",
          "2021-09-30",
          "2021-10-07",
          "2021-10-14",
          "2021-10-21",
          "2021-10-28",
          "2021-11-04",
          "2021-11-11",
          "2021-11-18",
          "2021-11-25",
          "2021-12-02",
          "2021-12-09",
          "2021-12-16",
          "2021-12-23",
          "2021-12-30",
          "2022-01-06",
          "2022-01-13",
          "2022-01-20",
          "2022-01-27",
          "2022-02-03",
          "2022-02-10",
          "2022-02-17",
          "2022-02-24",
          "2022-03-03",
          "2022-03-10",
          "2022-03-17",
          "2022-03-24",
          "2022-03-31",
          "2022-04-07",
          "2022-04-14",
          "2022-04-21",
          "2022-04-28",
          "2022-05-05",
          "2022-05-12",
          "2022-05-19",
          "2022-05-26",
          "2022-06-02",
          "2022-06-09",
          "2022-06-16",
          "2022-06-23",
          "2022-06-30",
          "2022-07-07",
          "2022-07-14",
          "2022-07-21",
          "2022-07-28",
          "2022-08-04",
          "2022-08-11",
          "2022-08-25",
          "2022-09-01",
          "2022-09-08",
          "2022-09-15",
          "2022-09-22",
          "2022-09-29",
          "2022-10-06",
          "2022-10-13",
          "2022-10-20",
          "2022-10-27",
          "2022-11-03",
          "2022-11-10",
          "2022-11-17",
          "2022-11-24",
          "2022-12-01"
         ],
         "xaxis": "x",
         "y": [
          2,
          2,
          2,
          2,
          1,
          1,
          1,
          1,
          1,
          3,
          1,
          4,
          2,
          2,
          2,
          2,
          2,
          2,
          2,
          3,
          3,
          5,
          5,
          5,
          5,
          4,
          3,
          3,
          3,
          4,
          4,
          3,
          3,
          3,
          3,
          3,
          2,
          1,
          3,
          6,
          4,
          4,
          4,
          3,
          3,
          2,
          6,
          3,
          2,
          2,
          2,
          2,
          4,
          4,
          7,
          6,
          4,
          20,
          8,
          4,
          2,
          2,
          2,
          2,
          1,
          2,
          2,
          2,
          2,
          2,
          2,
          4,
          1,
          7,
          4,
          2,
          1,
          1,
          4,
          4,
          7,
          1,
          1,
          4,
          2,
          13,
          2,
          1,
          1,
          1,
          1,
          1,
          1,
          2,
          3,
          2,
          2,
          2,
          5,
          1,
          2,
          2,
          2,
          2,
          2,
          2,
          2,
          2,
          2,
          2,
          2,
          6,
          4,
          4,
          3,
          3,
          4,
          2,
          2,
          2,
          2,
          2,
          2,
          2,
          2,
          4,
          4,
          4,
          3,
          5,
          4,
          3,
          3,
          2,
          5,
          3,
          3,
          9,
          11,
          18,
          15,
          13,
          14,
          12,
          16,
          21,
          16,
          15,
          15,
          15,
          16,
          15,
          16,
          16,
          16,
          21,
          26,
          24,
          29,
          30,
          32,
          39,
          42,
          40,
          32,
          30,
          29,
          26,
          27,
          21,
          26,
          32,
          33,
          35,
          37,
          37,
          36,
          30,
          33,
          53,
          50,
          45,
          41,
          44,
          47,
          43,
          56,
          46,
          52,
          48,
          42,
          51,
          64,
          60,
          60,
          60,
          59,
          57,
          61,
          62,
          68,
          84,
          85,
          102,
          115,
          106,
          114,
          117,
          117,
          105,
          100,
          97,
          84,
          80,
          80,
          6,
          6,
          8
         ],
         "yaxis": "y"
        },
        {
         "fill": "tozeroy",
         "line": {
          "color": "#00D56C"
         },
         "name": "Number of Steams",
         "type": "scatter",
         "x": [
          "2017-01-05",
          "2017-01-12",
          "2017-01-19",
          "2017-01-26",
          "2017-02-02",
          "2017-02-09",
          "2017-02-16",
          "2017-03-16",
          "2017-03-23",
          "2017-05-04",
          "2017-05-11",
          "2017-06-22",
          "2017-06-29",
          "2017-07-06",
          "2017-07-13",
          "2017-07-20",
          "2017-07-27",
          "2017-08-03",
          "2017-08-10",
          "2017-08-17",
          "2017-08-24",
          "2017-08-31",
          "2017-09-07",
          "2017-09-14",
          "2017-09-21",
          "2017-09-28",
          "2017-10-05",
          "2017-10-12",
          "2017-10-19",
          "2017-10-26",
          "2017-11-02",
          "2017-11-09",
          "2017-11-16",
          "2017-11-23",
          "2017-11-30",
          "2017-12-07",
          "2017-12-14",
          "2017-12-21",
          "2017-12-28",
          "2018-01-04",
          "2018-01-11",
          "2018-01-18",
          "2018-01-25",
          "2018-02-01",
          "2018-02-08",
          "2018-02-15",
          "2018-02-22",
          "2018-03-01",
          "2018-03-08",
          "2018-03-15",
          "2018-03-22",
          "2018-03-29",
          "2018-04-05",
          "2018-04-12",
          "2018-04-19",
          "2018-04-26",
          "2018-05-03",
          "2018-05-10",
          "2018-05-17",
          "2018-05-24",
          "2018-05-31",
          "2018-06-07",
          "2018-06-14",
          "2018-06-21",
          "2018-08-09",
          "2018-08-23",
          "2018-08-30",
          "2018-09-06",
          "2018-09-13",
          "2018-09-20",
          "2018-09-27",
          "2018-11-29",
          "2019-03-28",
          "2019-06-27",
          "2019-07-04",
          "2019-07-11",
          "2019-07-18",
          "2019-07-25",
          "2019-08-15",
          "2019-08-22",
          "2019-08-29",
          "2019-09-05",
          "2019-09-12",
          "2019-10-31",
          "2019-11-07",
          "2019-11-14",
          "2019-11-21",
          "2019-11-28",
          "2019-12-05",
          "2019-12-26",
          "2020-01-02",
          "2020-01-09",
          "2020-01-16",
          "2020-01-23",
          "2020-01-30",
          "2020-02-06",
          "2020-07-16",
          "2020-07-23",
          "2020-07-30",
          "2020-08-20",
          "2020-08-27",
          "2020-09-03",
          "2020-09-10",
          "2020-09-17",
          "2020-09-24",
          "2020-10-01",
          "2020-10-08",
          "2020-10-15",
          "2020-10-22",
          "2020-10-29",
          "2020-11-05",
          "2020-11-12",
          "2020-11-19",
          "2020-11-26",
          "2020-12-03",
          "2020-12-10",
          "2020-12-17",
          "2020-12-24",
          "2020-12-31",
          "2021-01-07",
          "2021-01-14",
          "2021-01-21",
          "2021-01-28",
          "2021-02-04",
          "2021-02-11",
          "2021-02-18",
          "2021-02-25",
          "2021-03-04",
          "2021-03-11",
          "2021-03-18",
          "2021-03-25",
          "2021-04-01",
          "2021-04-08",
          "2021-04-15",
          "2021-04-22",
          "2021-04-29",
          "2021-05-06",
          "2021-05-13",
          "2021-05-20",
          "2021-05-27",
          "2021-06-03",
          "2021-06-10",
          "2021-06-17",
          "2021-06-24",
          "2021-07-01",
          "2021-07-08",
          "2021-07-15",
          "2021-07-22",
          "2021-07-29",
          "2021-08-05",
          "2021-08-12",
          "2021-08-19",
          "2021-08-26",
          "2021-09-02",
          "2021-09-09",
          "2021-09-16",
          "2021-09-23",
          "2021-09-30",
          "2021-10-07",
          "2021-10-14",
          "2021-10-21",
          "2021-10-28",
          "2021-11-04",
          "2021-11-11",
          "2021-11-18",
          "2021-11-25",
          "2021-12-02",
          "2021-12-09",
          "2021-12-16",
          "2021-12-23",
          "2021-12-30",
          "2022-01-06",
          "2022-01-13",
          "2022-01-20",
          "2022-01-27",
          "2022-02-03",
          "2022-02-10",
          "2022-02-17",
          "2022-02-24",
          "2022-03-03",
          "2022-03-10",
          "2022-03-17",
          "2022-03-24",
          "2022-03-31",
          "2022-04-07",
          "2022-04-14",
          "2022-04-21",
          "2022-04-28",
          "2022-05-05",
          "2022-05-12",
          "2022-05-19",
          "2022-05-26",
          "2022-06-02",
          "2022-06-09",
          "2022-06-16",
          "2022-06-23",
          "2022-06-30",
          "2022-07-07",
          "2022-07-14",
          "2022-07-21",
          "2022-07-28",
          "2022-08-04",
          "2022-08-11",
          "2022-08-25",
          "2022-09-01",
          "2022-09-08",
          "2022-09-15",
          "2022-09-22",
          "2022-09-29",
          "2022-10-06",
          "2022-10-13",
          "2022-10-20",
          "2022-10-27",
          "2022-11-03",
          "2022-11-10",
          "2022-11-17",
          "2022-11-24",
          "2022-12-01"
         ],
         "xaxis": "x",
         "y": [
          255826,
          254840,
          242590,
          219250,
          12765,
          11923,
          10922,
          12464,
          14172,
          382628,
          213625,
          681192,
          623081,
          642290,
          624313,
          610763,
          583643,
          594140,
          569082,
          577140,
          592952,
          835104,
          909941,
          838941,
          812334,
          549624,
          516896,
          535183,
          537269,
          564454,
          513226,
          457515,
          441580,
          429972,
          418976,
          399311,
          418743,
          382347,
          912356,
          873960,
          784258,
          756797,
          755303,
          443904,
          428675,
          394332,
          906583,
          412419,
          389064,
          393530,
          414973,
          437479,
          697479,
          467997,
          1338938,
          1268151,
          746208,
          2437588,
          509569,
          425053,
          392490,
          388214,
          355601,
          324806,
          21853,
          49953,
          45090,
          45617,
          43595,
          44333,
          41843,
          758100,
          388310,
          1427253,
          671153,
          50518,
          37403,
          31718,
          2349819,
          1165388,
          1528115,
          41638,
          29179,
          857429,
          516486,
          1594087,
          496174,
          40080,
          34449,
          43948,
          35798,
          32554,
          33275,
          11588,
          16664,
          9442,
          20029,
          84555,
          1031475,
          11025,
          79130,
          88323,
          90529,
          103442,
          101350,
          101915,
          114259,
          114665,
          116730,
          123172,
          125547,
          1494045,
          711109,
          421826,
          320589,
          305234,
          327838,
          145845,
          142969,
          126541,
          139948,
          141221,
          138381,
          137216,
          133872,
          228221,
          240497,
          238143,
          46889,
          240680,
          221433,
          199507,
          201184,
          115720,
          553630,
          453762,
          337023,
          769701,
          837223,
          1410073,
          1195486,
          1049598,
          1152088,
          782808,
          857720,
          1890885,
          981088,
          988626,
          996923,
          984825,
          989299,
          964004,
          961049,
          1032784,
          1543647,
          2417535,
          2699644,
          2758551,
          2915769,
          2771013,
          2646838,
          3017557,
          3018462,
          2920776,
          2438720,
          2192998,
          2102716,
          1969219,
          1939734,
          1220252,
          1793010,
          2235381,
          2113458,
          2385105,
          2513722,
          2615167,
          2554114,
          2331443,
          2349177,
          2744501,
          2775733,
          2468174,
          2295484,
          2279890,
          2198906,
          1184743,
          1918517,
          1400484,
          1655084,
          1544567,
          1506240,
          1741701,
          1900310,
          1883189,
          2347187,
          2622317,
          1772505,
          1761951,
          1829782,
          1954285,
          2291397,
          3017947,
          2998806,
          11562064,
          13091664,
          12392746,
          13836509,
          17216381,
          16336090,
          15793363,
          15228534,
          14763896,
          14079866,
          13537280,
          15470814,
          136253,
          1055904,
          854604
         ],
         "yaxis": "y2"
        }
       ],
       "layout": {
        "legend": {
         "x": 0.05,
         "xanchor": "left",
         "y": 0.7,
         "yanchor": "bottom"
        },
        "template": {
         "data": {
          "bar": [
           {
            "error_x": {
             "color": "#2a3f5f"
            },
            "error_y": {
             "color": "#2a3f5f"
            },
            "marker": {
             "line": {
              "color": "#E5ECF6",
              "width": 0.5
             },
             "pattern": {
              "fillmode": "overlay",
              "size": 10,
              "solidity": 0.2
             }
            },
            "type": "bar"
           }
          ],
          "barpolar": [
           {
            "marker": {
             "line": {
              "color": "#E5ECF6",
              "width": 0.5
             },
             "pattern": {
              "fillmode": "overlay",
              "size": 10,
              "solidity": 0.2
             }
            },
            "type": "barpolar"
           }
          ],
          "carpet": [
           {
            "aaxis": {
             "endlinecolor": "#2a3f5f",
             "gridcolor": "white",
             "linecolor": "white",
             "minorgridcolor": "white",
             "startlinecolor": "#2a3f5f"
            },
            "baxis": {
             "endlinecolor": "#2a3f5f",
             "gridcolor": "white",
             "linecolor": "white",
             "minorgridcolor": "white",
             "startlinecolor": "#2a3f5f"
            },
            "type": "carpet"
           }
          ],
          "choropleth": [
           {
            "colorbar": {
             "outlinewidth": 0,
             "ticks": ""
            },
            "type": "choropleth"
           }
          ],
          "contour": [
           {
            "colorbar": {
             "outlinewidth": 0,
             "ticks": ""
            },
            "colorscale": [
             [
              0,
              "#0d0887"
             ],
             [
              0.1111111111111111,
              "#46039f"
             ],
             [
              0.2222222222222222,
              "#7201a8"
             ],
             [
              0.3333333333333333,
              "#9c179e"
             ],
             [
              0.4444444444444444,
              "#bd3786"
             ],
             [
              0.5555555555555556,
              "#d8576b"
             ],
             [
              0.6666666666666666,
              "#ed7953"
             ],
             [
              0.7777777777777778,
              "#fb9f3a"
             ],
             [
              0.8888888888888888,
              "#fdca26"
             ],
             [
              1,
              "#f0f921"
             ]
            ],
            "type": "contour"
           }
          ],
          "contourcarpet": [
           {
            "colorbar": {
             "outlinewidth": 0,
             "ticks": ""
            },
            "type": "contourcarpet"
           }
          ],
          "heatmap": [
           {
            "colorbar": {
             "outlinewidth": 0,
             "ticks": ""
            },
            "colorscale": [
             [
              0,
              "#0d0887"
             ],
             [
              0.1111111111111111,
              "#46039f"
             ],
             [
              0.2222222222222222,
              "#7201a8"
             ],
             [
              0.3333333333333333,
              "#9c179e"
             ],
             [
              0.4444444444444444,
              "#bd3786"
             ],
             [
              0.5555555555555556,
              "#d8576b"
             ],
             [
              0.6666666666666666,
              "#ed7953"
             ],
             [
              0.7777777777777778,
              "#fb9f3a"
             ],
             [
              0.8888888888888888,
              "#fdca26"
             ],
             [
              1,
              "#f0f921"
             ]
            ],
            "type": "heatmap"
           }
          ],
          "heatmapgl": [
           {
            "colorbar": {
             "outlinewidth": 0,
             "ticks": ""
            },
            "colorscale": [
             [
              0,
              "#0d0887"
             ],
             [
              0.1111111111111111,
              "#46039f"
             ],
             [
              0.2222222222222222,
              "#7201a8"
             ],
             [
              0.3333333333333333,
              "#9c179e"
             ],
             [
              0.4444444444444444,
              "#bd3786"
             ],
             [
              0.5555555555555556,
              "#d8576b"
             ],
             [
              0.6666666666666666,
              "#ed7953"
             ],
             [
              0.7777777777777778,
              "#fb9f3a"
             ],
             [
              0.8888888888888888,
              "#fdca26"
             ],
             [
              1,
              "#f0f921"
             ]
            ],
            "type": "heatmapgl"
           }
          ],
          "histogram": [
           {
            "marker": {
             "pattern": {
              "fillmode": "overlay",
              "size": 10,
              "solidity": 0.2
             }
            },
            "type": "histogram"
           }
          ],
          "histogram2d": [
           {
            "colorbar": {
             "outlinewidth": 0,
             "ticks": ""
            },
            "colorscale": [
             [
              0,
              "#0d0887"
             ],
             [
              0.1111111111111111,
              "#46039f"
             ],
             [
              0.2222222222222222,
              "#7201a8"
             ],
             [
              0.3333333333333333,
              "#9c179e"
             ],
             [
              0.4444444444444444,
              "#bd3786"
             ],
             [
              0.5555555555555556,
              "#d8576b"
             ],
             [
              0.6666666666666666,
              "#ed7953"
             ],
             [
              0.7777777777777778,
              "#fb9f3a"
             ],
             [
              0.8888888888888888,
              "#fdca26"
             ],
             [
              1,
              "#f0f921"
             ]
            ],
            "type": "histogram2d"
           }
          ],
          "histogram2dcontour": [
           {
            "colorbar": {
             "outlinewidth": 0,
             "ticks": ""
            },
            "colorscale": [
             [
              0,
              "#0d0887"
             ],
             [
              0.1111111111111111,
              "#46039f"
             ],
             [
              0.2222222222222222,
              "#7201a8"
             ],
             [
              0.3333333333333333,
              "#9c179e"
             ],
             [
              0.4444444444444444,
              "#bd3786"
             ],
             [
              0.5555555555555556,
              "#d8576b"
             ],
             [
              0.6666666666666666,
              "#ed7953"
             ],
             [
              0.7777777777777778,
              "#fb9f3a"
             ],
             [
              0.8888888888888888,
              "#fdca26"
             ],
             [
              1,
              "#f0f921"
             ]
            ],
            "type": "histogram2dcontour"
           }
          ],
          "mesh3d": [
           {
            "colorbar": {
             "outlinewidth": 0,
             "ticks": ""
            },
            "type": "mesh3d"
           }
          ],
          "parcoords": [
           {
            "line": {
             "colorbar": {
              "outlinewidth": 0,
              "ticks": ""
             }
            },
            "type": "parcoords"
           }
          ],
          "pie": [
           {
            "automargin": true,
            "type": "pie"
           }
          ],
          "scatter": [
           {
            "fillpattern": {
             "fillmode": "overlay",
             "size": 10,
             "solidity": 0.2
            },
            "type": "scatter"
           }
          ],
          "scatter3d": [
           {
            "line": {
             "colorbar": {
              "outlinewidth": 0,
              "ticks": ""
             }
            },
            "marker": {
             "colorbar": {
              "outlinewidth": 0,
              "ticks": ""
             }
            },
            "type": "scatter3d"
           }
          ],
          "scattercarpet": [
           {
            "marker": {
             "colorbar": {
              "outlinewidth": 0,
              "ticks": ""
             }
            },
            "type": "scattercarpet"
           }
          ],
          "scattergeo": [
           {
            "marker": {
             "colorbar": {
              "outlinewidth": 0,
              "ticks": ""
             }
            },
            "type": "scattergeo"
           }
          ],
          "scattergl": [
           {
            "marker": {
             "colorbar": {
              "outlinewidth": 0,
              "ticks": ""
             }
            },
            "type": "scattergl"
           }
          ],
          "scattermapbox": [
           {
            "marker": {
             "colorbar": {
              "outlinewidth": 0,
              "ticks": ""
             }
            },
            "type": "scattermapbox"
           }
          ],
          "scatterpolar": [
           {
            "marker": {
             "colorbar": {
              "outlinewidth": 0,
              "ticks": ""
             }
            },
            "type": "scatterpolar"
           }
          ],
          "scatterpolargl": [
           {
            "marker": {
             "colorbar": {
              "outlinewidth": 0,
              "ticks": ""
             }
            },
            "type": "scatterpolargl"
           }
          ],
          "scatterternary": [
           {
            "marker": {
             "colorbar": {
              "outlinewidth": 0,
              "ticks": ""
             }
            },
            "type": "scatterternary"
           }
          ],
          "surface": [
           {
            "colorbar": {
             "outlinewidth": 0,
             "ticks": ""
            },
            "colorscale": [
             [
              0,
              "#0d0887"
             ],
             [
              0.1111111111111111,
              "#46039f"
             ],
             [
              0.2222222222222222,
              "#7201a8"
             ],
             [
              0.3333333333333333,
              "#9c179e"
             ],
             [
              0.4444444444444444,
              "#bd3786"
             ],
             [
              0.5555555555555556,
              "#d8576b"
             ],
             [
              0.6666666666666666,
              "#ed7953"
             ],
             [
              0.7777777777777778,
              "#fb9f3a"
             ],
             [
              0.8888888888888888,
              "#fdca26"
             ],
             [
              1,
              "#f0f921"
             ]
            ],
            "type": "surface"
           }
          ],
          "table": [
           {
            "cells": {
             "fill": {
              "color": "#EBF0F8"
             },
             "line": {
              "color": "white"
             }
            },
            "header": {
             "fill": {
              "color": "#C8D4E3"
             },
             "line": {
              "color": "white"
             }
            },
            "type": "table"
           }
          ]
         },
         "layout": {
          "annotationdefaults": {
           "arrowcolor": "#2a3f5f",
           "arrowhead": 0,
           "arrowwidth": 1
          },
          "autotypenumbers": "strict",
          "coloraxis": {
           "colorbar": {
            "outlinewidth": 0,
            "ticks": ""
           }
          },
          "colorscale": {
           "diverging": [
            [
             0,
             "#8e0152"
            ],
            [
             0.1,
             "#c51b7d"
            ],
            [
             0.2,
             "#de77ae"
            ],
            [
             0.3,
             "#f1b6da"
            ],
            [
             0.4,
             "#fde0ef"
            ],
            [
             0.5,
             "#f7f7f7"
            ],
            [
             0.6,
             "#e6f5d0"
            ],
            [
             0.7,
             "#b8e186"
            ],
            [
             0.8,
             "#7fbc41"
            ],
            [
             0.9,
             "#4d9221"
            ],
            [
             1,
             "#276419"
            ]
           ],
           "sequential": [
            [
             0,
             "#0d0887"
            ],
            [
             0.1111111111111111,
             "#46039f"
            ],
            [
             0.2222222222222222,
             "#7201a8"
            ],
            [
             0.3333333333333333,
             "#9c179e"
            ],
            [
             0.4444444444444444,
             "#bd3786"
            ],
            [
             0.5555555555555556,
             "#d8576b"
            ],
            [
             0.6666666666666666,
             "#ed7953"
            ],
            [
             0.7777777777777778,
             "#fb9f3a"
            ],
            [
             0.8888888888888888,
             "#fdca26"
            ],
            [
             1,
             "#f0f921"
            ]
           ],
           "sequentialminus": [
            [
             0,
             "#0d0887"
            ],
            [
             0.1111111111111111,
             "#46039f"
            ],
            [
             0.2222222222222222,
             "#7201a8"
            ],
            [
             0.3333333333333333,
             "#9c179e"
            ],
            [
             0.4444444444444444,
             "#bd3786"
            ],
            [
             0.5555555555555556,
             "#d8576b"
            ],
            [
             0.6666666666666666,
             "#ed7953"
            ],
            [
             0.7777777777777778,
             "#fb9f3a"
            ],
            [
             0.8888888888888888,
             "#fdca26"
            ],
            [
             1,
             "#f0f921"
            ]
           ]
          },
          "colorway": [
           "#636efa",
           "#EF553B",
           "#00cc96",
           "#ab63fa",
           "#FFA15A",
           "#19d3f3",
           "#FF6692",
           "#B6E880",
           "#FF97FF",
           "#FECB52"
          ],
          "font": {
           "color": "#2a3f5f"
          },
          "geo": {
           "bgcolor": "white",
           "lakecolor": "white",
           "landcolor": "#E5ECF6",
           "showlakes": true,
           "showland": true,
           "subunitcolor": "white"
          },
          "hoverlabel": {
           "align": "left"
          },
          "hovermode": "closest",
          "mapbox": {
           "style": "light"
          },
          "paper_bgcolor": "white",
          "plot_bgcolor": "#E5ECF6",
          "polar": {
           "angularaxis": {
            "gridcolor": "white",
            "linecolor": "white",
            "ticks": ""
           },
           "bgcolor": "#E5ECF6",
           "radialaxis": {
            "gridcolor": "white",
            "linecolor": "white",
            "ticks": ""
           }
          },
          "scene": {
           "xaxis": {
            "backgroundcolor": "#E5ECF6",
            "gridcolor": "white",
            "gridwidth": 2,
            "linecolor": "white",
            "showbackground": true,
            "ticks": "",
            "zerolinecolor": "white"
           },
           "yaxis": {
            "backgroundcolor": "#E5ECF6",
            "gridcolor": "white",
            "gridwidth": 2,
            "linecolor": "white",
            "showbackground": true,
            "ticks": "",
            "zerolinecolor": "white"
           },
           "zaxis": {
            "backgroundcolor": "#E5ECF6",
            "gridcolor": "white",
            "gridwidth": 2,
            "linecolor": "white",
            "showbackground": true,
            "ticks": "",
            "zerolinecolor": "white"
           }
          },
          "shapedefaults": {
           "line": {
            "color": "#2a3f5f"
           }
          },
          "ternary": {
           "aaxis": {
            "gridcolor": "white",
            "linecolor": "white",
            "ticks": ""
           },
           "baxis": {
            "gridcolor": "white",
            "linecolor": "white",
            "ticks": ""
           },
           "bgcolor": "#E5ECF6",
           "caxis": {
            "gridcolor": "white",
            "linecolor": "white",
            "ticks": ""
           }
          },
          "title": {
           "x": 0.05
          },
          "xaxis": {
           "automargin": true,
           "gridcolor": "white",
           "linecolor": "white",
           "ticks": "",
           "title": {
            "standoff": 15
           },
           "zerolinecolor": "white",
           "zerolinewidth": 2
          },
          "yaxis": {
           "automargin": true,
           "gridcolor": "white",
           "linecolor": "white",
           "ticks": "",
           "title": {
            "standoff": 15
           },
           "zerolinecolor": "white",
           "zerolinewidth": 2
          }
         }
        },
        "title": {
         "text": "Phonk popularity on Spotify"
        },
        "xaxis": {
         "anchor": "y",
         "domain": [
          0,
          0.94
         ]
        },
        "yaxis": {
         "anchor": "x",
         "domain": [
          0,
          1
         ]
        },
        "yaxis2": {
         "anchor": "x",
         "overlaying": "y",
         "side": "right"
        }
       }
      }
     },
     "metadata": {},
     "output_type": "display_data"
    }
   ],
   "source": [
    "\n",
    "\n",
    "# Create figure with secondary y-axis\n",
    "fig = make_subplots(specs=[[{\"secondary_y\": True}]])\n",
    "fig.add_trace(\n",
    "    go.Scatter(x=df_date['date'], y=df_date['counter'], name=\"Number of tracks\", line_color=\"black\", fill='tozeroy'),\n",
    "    secondary_y=False,\n",
    ")\n",
    "\n",
    "fig.add_trace(\n",
    "    go.Scatter(x=df_date['date'], y=df_date['streams'], name=\"Number of Steams\", line_color=\"#00D56C\", fill='tozeroy'),\n",
    "    secondary_y=True,\n",
    ")\n",
    "\n",
    "fig.update_layout(\n",
    "    title=\"Phonk popularity on Spotify\",\n",
    "    legend=dict(yanchor=\"bottom\", y=0.7, xanchor=\"left\", x=0.05)\n",
    ")\n",
    "\n",
    "\n"
   ]
  },
  {
   "cell_type": "code",
   "execution_count": 11,
   "metadata": {},
   "outputs": [
    {
     "data": {
      "application/vnd.plotly.v1+json": {
       "config": {
        "plotlyServerURL": "https://plot.ly"
       },
       "data": [
        {
         "marker": {
          "color": [
           136876606,
           69153671,
           30743498,
           27937062,
           24634807,
           23453973,
           23196801,
           16054813,
           16010376,
           13279699
          ],
          "size": [
           121,
           69.8,
           25.4,
           110.2,
           21.2,
           74.2,
           42,
           46.4,
           68.4,
           5
          ]
         },
         "mode": "markers",
         "type": "scatter",
         "x": [
          605,
          349,
          127,
          551,
          106,
          371,
          210,
          232,
          342,
          25
         ],
         "y": [
          136876606,
          69153671,
          30743498,
          27937062,
          24634807,
          23453973,
          23196801,
          16054813,
          16010376,
          13279699
         ]
        }
       ],
       "layout": {
        "showlegend": false,
        "template": {
         "data": {
          "bar": [
           {
            "error_x": {
             "color": "#2a3f5f"
            },
            "error_y": {
             "color": "#2a3f5f"
            },
            "marker": {
             "line": {
              "color": "#E5ECF6",
              "width": 0.5
             },
             "pattern": {
              "fillmode": "overlay",
              "size": 10,
              "solidity": 0.2
             }
            },
            "type": "bar"
           }
          ],
          "barpolar": [
           {
            "marker": {
             "line": {
              "color": "#E5ECF6",
              "width": 0.5
             },
             "pattern": {
              "fillmode": "overlay",
              "size": 10,
              "solidity": 0.2
             }
            },
            "type": "barpolar"
           }
          ],
          "carpet": [
           {
            "aaxis": {
             "endlinecolor": "#2a3f5f",
             "gridcolor": "white",
             "linecolor": "white",
             "minorgridcolor": "white",
             "startlinecolor": "#2a3f5f"
            },
            "baxis": {
             "endlinecolor": "#2a3f5f",
             "gridcolor": "white",
             "linecolor": "white",
             "minorgridcolor": "white",
             "startlinecolor": "#2a3f5f"
            },
            "type": "carpet"
           }
          ],
          "choropleth": [
           {
            "colorbar": {
             "outlinewidth": 0,
             "ticks": ""
            },
            "type": "choropleth"
           }
          ],
          "contour": [
           {
            "colorbar": {
             "outlinewidth": 0,
             "ticks": ""
            },
            "colorscale": [
             [
              0,
              "#0d0887"
             ],
             [
              0.1111111111111111,
              "#46039f"
             ],
             [
              0.2222222222222222,
              "#7201a8"
             ],
             [
              0.3333333333333333,
              "#9c179e"
             ],
             [
              0.4444444444444444,
              "#bd3786"
             ],
             [
              0.5555555555555556,
              "#d8576b"
             ],
             [
              0.6666666666666666,
              "#ed7953"
             ],
             [
              0.7777777777777778,
              "#fb9f3a"
             ],
             [
              0.8888888888888888,
              "#fdca26"
             ],
             [
              1,
              "#f0f921"
             ]
            ],
            "type": "contour"
           }
          ],
          "contourcarpet": [
           {
            "colorbar": {
             "outlinewidth": 0,
             "ticks": ""
            },
            "type": "contourcarpet"
           }
          ],
          "heatmap": [
           {
            "colorbar": {
             "outlinewidth": 0,
             "ticks": ""
            },
            "colorscale": [
             [
              0,
              "#0d0887"
             ],
             [
              0.1111111111111111,
              "#46039f"
             ],
             [
              0.2222222222222222,
              "#7201a8"
             ],
             [
              0.3333333333333333,
              "#9c179e"
             ],
             [
              0.4444444444444444,
              "#bd3786"
             ],
             [
              0.5555555555555556,
              "#d8576b"
             ],
             [
              0.6666666666666666,
              "#ed7953"
             ],
             [
              0.7777777777777778,
              "#fb9f3a"
             ],
             [
              0.8888888888888888,
              "#fdca26"
             ],
             [
              1,
              "#f0f921"
             ]
            ],
            "type": "heatmap"
           }
          ],
          "heatmapgl": [
           {
            "colorbar": {
             "outlinewidth": 0,
             "ticks": ""
            },
            "colorscale": [
             [
              0,
              "#0d0887"
             ],
             [
              0.1111111111111111,
              "#46039f"
             ],
             [
              0.2222222222222222,
              "#7201a8"
             ],
             [
              0.3333333333333333,
              "#9c179e"
             ],
             [
              0.4444444444444444,
              "#bd3786"
             ],
             [
              0.5555555555555556,
              "#d8576b"
             ],
             [
              0.6666666666666666,
              "#ed7953"
             ],
             [
              0.7777777777777778,
              "#fb9f3a"
             ],
             [
              0.8888888888888888,
              "#fdca26"
             ],
             [
              1,
              "#f0f921"
             ]
            ],
            "type": "heatmapgl"
           }
          ],
          "histogram": [
           {
            "marker": {
             "pattern": {
              "fillmode": "overlay",
              "size": 10,
              "solidity": 0.2
             }
            },
            "type": "histogram"
           }
          ],
          "histogram2d": [
           {
            "colorbar": {
             "outlinewidth": 0,
             "ticks": ""
            },
            "colorscale": [
             [
              0,
              "#0d0887"
             ],
             [
              0.1111111111111111,
              "#46039f"
             ],
             [
              0.2222222222222222,
              "#7201a8"
             ],
             [
              0.3333333333333333,
              "#9c179e"
             ],
             [
              0.4444444444444444,
              "#bd3786"
             ],
             [
              0.5555555555555556,
              "#d8576b"
             ],
             [
              0.6666666666666666,
              "#ed7953"
             ],
             [
              0.7777777777777778,
              "#fb9f3a"
             ],
             [
              0.8888888888888888,
              "#fdca26"
             ],
             [
              1,
              "#f0f921"
             ]
            ],
            "type": "histogram2d"
           }
          ],
          "histogram2dcontour": [
           {
            "colorbar": {
             "outlinewidth": 0,
             "ticks": ""
            },
            "colorscale": [
             [
              0,
              "#0d0887"
             ],
             [
              0.1111111111111111,
              "#46039f"
             ],
             [
              0.2222222222222222,
              "#7201a8"
             ],
             [
              0.3333333333333333,
              "#9c179e"
             ],
             [
              0.4444444444444444,
              "#bd3786"
             ],
             [
              0.5555555555555556,
              "#d8576b"
             ],
             [
              0.6666666666666666,
              "#ed7953"
             ],
             [
              0.7777777777777778,
              "#fb9f3a"
             ],
             [
              0.8888888888888888,
              "#fdca26"
             ],
             [
              1,
              "#f0f921"
             ]
            ],
            "type": "histogram2dcontour"
           }
          ],
          "mesh3d": [
           {
            "colorbar": {
             "outlinewidth": 0,
             "ticks": ""
            },
            "type": "mesh3d"
           }
          ],
          "parcoords": [
           {
            "line": {
             "colorbar": {
              "outlinewidth": 0,
              "ticks": ""
             }
            },
            "type": "parcoords"
           }
          ],
          "pie": [
           {
            "automargin": true,
            "type": "pie"
           }
          ],
          "scatter": [
           {
            "fillpattern": {
             "fillmode": "overlay",
             "size": 10,
             "solidity": 0.2
            },
            "type": "scatter"
           }
          ],
          "scatter3d": [
           {
            "line": {
             "colorbar": {
              "outlinewidth": 0,
              "ticks": ""
             }
            },
            "marker": {
             "colorbar": {
              "outlinewidth": 0,
              "ticks": ""
             }
            },
            "type": "scatter3d"
           }
          ],
          "scattercarpet": [
           {
            "marker": {
             "colorbar": {
              "outlinewidth": 0,
              "ticks": ""
             }
            },
            "type": "scattercarpet"
           }
          ],
          "scattergeo": [
           {
            "marker": {
             "colorbar": {
              "outlinewidth": 0,
              "ticks": ""
             }
            },
            "type": "scattergeo"
           }
          ],
          "scattergl": [
           {
            "marker": {
             "colorbar": {
              "outlinewidth": 0,
              "ticks": ""
             }
            },
            "type": "scattergl"
           }
          ],
          "scattermapbox": [
           {
            "marker": {
             "colorbar": {
              "outlinewidth": 0,
              "ticks": ""
             }
            },
            "type": "scattermapbox"
           }
          ],
          "scatterpolar": [
           {
            "marker": {
             "colorbar": {
              "outlinewidth": 0,
              "ticks": ""
             }
            },
            "type": "scatterpolar"
           }
          ],
          "scatterpolargl": [
           {
            "marker": {
             "colorbar": {
              "outlinewidth": 0,
              "ticks": ""
             }
            },
            "type": "scatterpolargl"
           }
          ],
          "scatterternary": [
           {
            "marker": {
             "colorbar": {
              "outlinewidth": 0,
              "ticks": ""
             }
            },
            "type": "scatterternary"
           }
          ],
          "surface": [
           {
            "colorbar": {
             "outlinewidth": 0,
             "ticks": ""
            },
            "colorscale": [
             [
              0,
              "#0d0887"
             ],
             [
              0.1111111111111111,
              "#46039f"
             ],
             [
              0.2222222222222222,
              "#7201a8"
             ],
             [
              0.3333333333333333,
              "#9c179e"
             ],
             [
              0.4444444444444444,
              "#bd3786"
             ],
             [
              0.5555555555555556,
              "#d8576b"
             ],
             [
              0.6666666666666666,
              "#ed7953"
             ],
             [
              0.7777777777777778,
              "#fb9f3a"
             ],
             [
              0.8888888888888888,
              "#fdca26"
             ],
             [
              1,
              "#f0f921"
             ]
            ],
            "type": "surface"
           }
          ],
          "table": [
           {
            "cells": {
             "fill": {
              "color": "#EBF0F8"
             },
             "line": {
              "color": "white"
             }
            },
            "header": {
             "fill": {
              "color": "#C8D4E3"
             },
             "line": {
              "color": "white"
             }
            },
            "type": "table"
           }
          ]
         },
         "layout": {
          "annotationdefaults": {
           "arrowcolor": "#2a3f5f",
           "arrowhead": 0,
           "arrowwidth": 1
          },
          "autotypenumbers": "strict",
          "coloraxis": {
           "colorbar": {
            "outlinewidth": 0,
            "ticks": ""
           }
          },
          "colorscale": {
           "diverging": [
            [
             0,
             "#8e0152"
            ],
            [
             0.1,
             "#c51b7d"
            ],
            [
             0.2,
             "#de77ae"
            ],
            [
             0.3,
             "#f1b6da"
            ],
            [
             0.4,
             "#fde0ef"
            ],
            [
             0.5,
             "#f7f7f7"
            ],
            [
             0.6,
             "#e6f5d0"
            ],
            [
             0.7,
             "#b8e186"
            ],
            [
             0.8,
             "#7fbc41"
            ],
            [
             0.9,
             "#4d9221"
            ],
            [
             1,
             "#276419"
            ]
           ],
           "sequential": [
            [
             0,
             "#0d0887"
            ],
            [
             0.1111111111111111,
             "#46039f"
            ],
            [
             0.2222222222222222,
             "#7201a8"
            ],
            [
             0.3333333333333333,
             "#9c179e"
            ],
            [
             0.4444444444444444,
             "#bd3786"
            ],
            [
             0.5555555555555556,
             "#d8576b"
            ],
            [
             0.6666666666666666,
             "#ed7953"
            ],
            [
             0.7777777777777778,
             "#fb9f3a"
            ],
            [
             0.8888888888888888,
             "#fdca26"
            ],
            [
             1,
             "#f0f921"
            ]
           ],
           "sequentialminus": [
            [
             0,
             "#0d0887"
            ],
            [
             0.1111111111111111,
             "#46039f"
            ],
            [
             0.2222222222222222,
             "#7201a8"
            ],
            [
             0.3333333333333333,
             "#9c179e"
            ],
            [
             0.4444444444444444,
             "#bd3786"
            ],
            [
             0.5555555555555556,
             "#d8576b"
            ],
            [
             0.6666666666666666,
             "#ed7953"
            ],
            [
             0.7777777777777778,
             "#fb9f3a"
            ],
            [
             0.8888888888888888,
             "#fdca26"
            ],
            [
             1,
             "#f0f921"
            ]
           ]
          },
          "colorway": [
           "#636efa",
           "#EF553B",
           "#00cc96",
           "#ab63fa",
           "#FFA15A",
           "#19d3f3",
           "#FF6692",
           "#B6E880",
           "#FF97FF",
           "#FECB52"
          ],
          "font": {
           "color": "#2a3f5f"
          },
          "geo": {
           "bgcolor": "white",
           "lakecolor": "white",
           "landcolor": "#E5ECF6",
           "showlakes": true,
           "showland": true,
           "subunitcolor": "white"
          },
          "hoverlabel": {
           "align": "left"
          },
          "hovermode": "closest",
          "mapbox": {
           "style": "light"
          },
          "paper_bgcolor": "white",
          "plot_bgcolor": "#E5ECF6",
          "polar": {
           "angularaxis": {
            "gridcolor": "white",
            "linecolor": "white",
            "ticks": ""
           },
           "bgcolor": "#E5ECF6",
           "radialaxis": {
            "gridcolor": "white",
            "linecolor": "white",
            "ticks": ""
           }
          },
          "scene": {
           "xaxis": {
            "backgroundcolor": "#E5ECF6",
            "gridcolor": "white",
            "gridwidth": 2,
            "linecolor": "white",
            "showbackground": true,
            "ticks": "",
            "zerolinecolor": "white"
           },
           "yaxis": {
            "backgroundcolor": "#E5ECF6",
            "gridcolor": "white",
            "gridwidth": 2,
            "linecolor": "white",
            "showbackground": true,
            "ticks": "",
            "zerolinecolor": "white"
           },
           "zaxis": {
            "backgroundcolor": "#E5ECF6",
            "gridcolor": "white",
            "gridwidth": 2,
            "linecolor": "white",
            "showbackground": true,
            "ticks": "",
            "zerolinecolor": "white"
           }
          },
          "shapedefaults": {
           "line": {
            "color": "#2a3f5f"
           }
          },
          "ternary": {
           "aaxis": {
            "gridcolor": "white",
            "linecolor": "white",
            "ticks": ""
           },
           "baxis": {
            "gridcolor": "white",
            "linecolor": "white",
            "ticks": ""
           },
           "bgcolor": "#E5ECF6",
           "caxis": {
            "gridcolor": "white",
            "linecolor": "white",
            "ticks": ""
           }
          },
          "title": {
           "x": 0.05
          },
          "xaxis": {
           "automargin": true,
           "gridcolor": "white",
           "linecolor": "white",
           "ticks": "",
           "title": {
            "standoff": 15
           },
           "zerolinecolor": "white",
           "zerolinewidth": 2
          },
          "yaxis": {
           "automargin": true,
           "gridcolor": "white",
           "linecolor": "white",
           "ticks": "",
           "title": {
            "standoff": 15
           },
           "zerolinecolor": "white",
           "zerolinewidth": 2
          }
         }
        },
        "title": {
         "text": "Top listened Phonk tracks over artists on spotify"
        }
       }
      }
     },
     "metadata": {},
     "output_type": "display_data"
    }
   ],
   "source": [
    "trace_artist = go.Scatter(\n",
    "    x=df_artist[\"counter\"],\n",
    "    y=df_artist[\"streams\"], \n",
    "    mode = 'markers',\n",
    "    \n",
    "    marker_size= df_artist[\"counter\"]/5,\n",
    "    marker_color= df_artist[\"streams\"],\n",
    "    \n",
    ")\n",
    "fig2 = go.Figure()\n",
    "fig2.add_trace(trace_artist)\n",
    "fig2.update_layout(\n",
    "    showlegend=False,\n",
    "    title = \"Top listened Phonk tracks over artists on spotify\"\n",
    ")"
   ]
  },
  {
   "cell_type": "code",
   "execution_count": 12,
   "metadata": {},
   "outputs": [
    {
     "name": "stdout",
     "output_type": "stream",
     "text": [
      "Dash is running on http://127.0.0.1:8050/\n",
      "\n",
      " * Serving Flask app '__main__'\n",
      " * Debug mode: on\n"
     ]
    },
    {
     "name": "stderr",
     "output_type": "stream",
     "text": [
      "/var/folders/rg/llsw209n1tvdytqt25z1bk2m0000gn/T/ipykernel_97297/4024946788.py:2: UserWarning:\n",
      "\n",
      "\n",
      "The dash_core_components package is deprecated. Please replace\n",
      "`import dash_core_components as dcc` with `from dash import dcc`\n",
      "\n",
      "/var/folders/rg/llsw209n1tvdytqt25z1bk2m0000gn/T/ipykernel_97297/4024946788.py:3: UserWarning:\n",
      "\n",
      "\n",
      "The dash_html_components package is deprecated. Please replace\n",
      "`import dash_html_components as html` with `from dash import html`\n",
      "\n"
     ]
    }
   ],
   "source": [
    "import dash\n",
    "import dash_core_components as dcc\n",
    "import dash_html_components as html\n",
    "\n",
    "app = dash.Dash()\n",
    "app.layout = html.Div(\n",
    "    children=[\n",
    "        html.Div(\n",
    "            dcc.Graph(\n",
    "                figure=fig\n",
    "            )\n",
    "        ),\n",
    "        html.Div(\n",
    "            dcc.Graph(\n",
    "                figure=fig2\n",
    "            )\n",
    "        ),\n",
    "    ]\n",
    ")\n",
    "\n",
    "\n",
    "app.run_server(debug=True, use_reloader=False)  "
   ]
  },
  {
   "cell_type": "code",
   "execution_count": null,
   "metadata": {},
   "outputs": [],
   "source": [
    "\n",
    "fig2.show()"
   ]
  },
  {
   "cell_type": "code",
   "execution_count": null,
   "metadata": {},
   "outputs": [],
   "source": [
    "fig = px.scatter(df_country, x=\"counter\", y=\"streams\", color=\"country\",\n",
    "                 size='streams', text=\"country\",\n",
    "                 labels={\n",
    "                     \"counter\": \"Number of tracks\",\n",
    "                     \"streams\": \"Number of streams\",\n",
    "                 })\n",
    "fig.update_layout(\n",
    "    showlegend=False,\n",
    "    title = \"Top listened Phonk tracks over country on spotify\"\n",
    ")\n",
    "fig.show()"
   ]
  },
  {
   "cell_type": "code",
   "execution_count": null,
   "metadata": {},
   "outputs": [],
   "source": [
    "\n",
    "fig = go.Figure(data=[go.Pie(labels=['explicit', 'not explicit'], values=df_explicit['counter'], pull=[0, 0.2])])\n",
    "fig.show()"
   ]
  }
 ],
 "metadata": {
  "kernelspec": {
   "display_name": "Python 3",
   "language": "python",
   "name": "python3"
  },
  "language_info": {
   "codemirror_mode": {
    "name": "ipython",
    "version": 3
   },
   "file_extension": ".py",
   "mimetype": "text/x-python",
   "name": "python",
   "nbconvert_exporter": "python",
   "pygments_lexer": "ipython3",
   "version": "3.11.1"
  },
  "orig_nbformat": 4,
  "vscode": {
   "interpreter": {
    "hash": "aee8b7b246df8f9039afb4144a1f6fd8d2ca17a180786b69acc140d282b71a49"
   }
  }
 },
 "nbformat": 4,
 "nbformat_minor": 2
}
